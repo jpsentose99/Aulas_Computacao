{
 "cells": [
  {
   "cell_type": "markdown",
   "metadata": {},
   "source": [
    "# Aula 16"
   ]
  },
  {
   "cell_type": "code",
   "execution_count": 5,
   "metadata": {},
   "outputs": [],
   "source": [
    "from math import *\n",
    "from random import *"
   ]
  },
  {
   "cell_type": "code",
   "execution_count": 64,
   "metadata": {},
   "outputs": [],
   "source": [
    "def baralho(n):\n",
    "    #sorteia n cartas, podendo haver repetição\n",
    "    lista=[]\n",
    "    cont=1\n",
    "    while cont<=n:\n",
    "        carta=randint(1,13) #randint inclui as fronteiras\n",
    "        naipe=choice([\"copas\",\"ouros\",\"espadas\",\"paus\"])\n",
    "        lista.append([carta,naipe])\n",
    "        cont=cont+1\n",
    "    return lista"
   ]
  },
  {
   "cell_type": "code",
   "execution_count": 74,
   "metadata": {},
   "outputs": [
    {
     "data": {
      "text/plain": [
       "[[6, 'ouros'], [6, 'ouros'], [7, 'ouros'], [1, 'copas']]"
      ]
     },
     "execution_count": 74,
     "metadata": {},
     "output_type": "execute_result"
    }
   ],
   "source": [
    "baralho(4)"
   ]
  },
  {
   "cell_type": "code",
   "execution_count": 75,
   "metadata": {},
   "outputs": [],
   "source": [
    "lista=[1,2,3,4,5]"
   ]
  },
  {
   "cell_type": "code",
   "execution_count": 76,
   "metadata": {},
   "outputs": [
    {
     "data": {
      "text/plain": [
       "5"
      ]
     },
     "execution_count": 76,
     "metadata": {},
     "output_type": "execute_result"
    }
   ],
   "source": [
    "len(lista)"
   ]
  },
  {
   "cell_type": "code",
   "execution_count": 94,
   "metadata": {},
   "outputs": [],
   "source": [
    "def baralho2(n):\n",
    "    #sorteia n cartas, sem repetição\n",
    "    if n>52:\n",
    "        print('Seu burro, um baralho só tem 52 cartas')\n",
    "    baralho=[]\n",
    "    sorteio=[]\n",
    "    naipes=['copas','ouros','paus','espadas']\n",
    "    for carta in range (1,14):\n",
    "        for posição in range(4):\n",
    "            baralho.append([carta,naipes[posição]])\n",
    "    cont=1\n",
    "    while cont<=n:\n",
    "        x=baralho.pop(randint(1,len(baralho)-1)) #len(baralho)-1 pois a indexação da lista começa em 0\n",
    "        sorteio.append(x)\n",
    "        cont=cont+1\n",
    "    return sorteio"
   ]
  },
  {
   "cell_type": "code",
   "execution_count": 95,
   "metadata": {},
   "outputs": [
    {
     "data": {
      "text/plain": [
       "[[5, 'ouros'],\n",
       " [4, 'ouros'],\n",
       " [12, 'copas'],\n",
       " [2, 'paus'],\n",
       " [13, 'copas'],\n",
       " [8, 'copas'],\n",
       " [7, 'copas'],\n",
       " [4, 'paus'],\n",
       " [11, 'paus'],\n",
       " [13, 'ouros']]"
      ]
     },
     "execution_count": 95,
     "metadata": {},
     "output_type": "execute_result"
    }
   ],
   "source": [
    "baralho2(10)"
   ]
  },
  {
   "cell_type": "code",
   "execution_count": 96,
   "metadata": {},
   "outputs": [],
   "source": [
    "baralho=[]\n",
    "sorteio=[]\n",
    "naipes=['copas','ouros','paus','espadas']\n",
    "for carta in range (1,14):\n",
    "    for posição in range(4):\n",
    "        baralho.append([carta,naipes[posição]])"
   ]
  },
  {
   "cell_type": "code",
   "execution_count": 99,
   "metadata": {},
   "outputs": [
    {
     "data": {
      "text/plain": [
       "[13, 'espadas']"
      ]
     },
     "execution_count": 99,
     "metadata": {},
     "output_type": "execute_result"
    }
   ],
   "source": [
    "baralho[-1]"
   ]
  },
  {
   "cell_type": "code",
   "execution_count": 100,
   "metadata": {},
   "outputs": [],
   "source": [
    "listinha=[1,'Jorge',3,4,5]"
   ]
  },
  {
   "cell_type": "code",
   "execution_count": 103,
   "metadata": {},
   "outputs": [
    {
     "ename": "TypeError",
     "evalue": "unsupported operand type(s) for +: 'int' and 'str'",
     "output_type": "error",
     "traceback": [
      "\u001b[1;31m---------------------------------------------------------------------------\u001b[0m",
      "\u001b[1;31mTypeError\u001b[0m                                 Traceback (most recent call last)",
      "\u001b[1;32m<ipython-input-103-49bb0b56ba7f>\u001b[0m in \u001b[0;36m<module>\u001b[1;34m\u001b[0m\n\u001b[1;32m----> 1\u001b[1;33m \u001b[0msum\u001b[0m\u001b[1;33m(\u001b[0m\u001b[0mlistinha\u001b[0m\u001b[1;33m)\u001b[0m\u001b[1;33m\u001b[0m\u001b[1;33m\u001b[0m\u001b[0m\n\u001b[0m",
      "\u001b[1;31mTypeError\u001b[0m: unsupported operand type(s) for +: 'int' and 'str'"
     ]
    }
   ],
   "source": [
    "sum(listinha)"
   ]
  },
  {
   "cell_type": "code",
   "execution_count": 105,
   "metadata": {},
   "outputs": [
    {
     "data": {
      "text/plain": [
       "str"
      ]
     },
     "execution_count": 105,
     "metadata": {},
     "output_type": "execute_result"
    }
   ],
   "source": [
    "type(listinha[1])"
   ]
  },
  {
   "cell_type": "code",
   "execution_count": 113,
   "metadata": {},
   "outputs": [
    {
     "data": {
      "text/plain": [
       "1"
      ]
     },
     "execution_count": 113,
     "metadata": {},
     "output_type": "execute_result"
    }
   ],
   "source": [
    "listinha[0]"
   ]
  },
  {
   "cell_type": "markdown",
   "metadata": {},
   "source": [
    "Quando temos uma lista formada por tipos diferentes, não conseguimos usa a função `sum()` para somar os elementos da lista. \n",
    "\n",
    "\n",
    "Sendo assim, vamos construir uma função (`somalista()`) que recebe uma lista e testa o tipo de cada elemeto contido nela e vai realizando a soma deles quando for um número (ou seja, do tipo *int* ou *float*). "
   ]
  },
  {
   "cell_type": "code",
   "execution_count": 121,
   "metadata": {},
   "outputs": [],
   "source": [
    "def somalista(lista):\n",
    "    soma=0\n",
    "    cont=0\n",
    "    while cont<=len(lista)-1:\n",
    "        if type(lista[cont])==int or type(lista[cont])==float:\n",
    "            soma=soma+lista[cont]\n",
    "        cont=cont+1\n",
    "    return soma"
   ]
  },
  {
   "cell_type": "code",
   "execution_count": 123,
   "metadata": {},
   "outputs": [
    {
     "data": {
      "text/plain": [
       "13"
      ]
     },
     "execution_count": 123,
     "metadata": {},
     "output_type": "execute_result"
    }
   ],
   "source": [
    "somalista(listinha)"
   ]
  },
  {
   "cell_type": "code",
   "execution_count": 124,
   "metadata": {},
   "outputs": [
    {
     "data": {
      "text/plain": [
       "13"
      ]
     },
     "execution_count": 124,
     "metadata": {},
     "output_type": "execute_result"
    }
   ],
   "source": [
    "somalista([1,'2',3,4,5])"
   ]
  }
 ],
 "metadata": {
  "kernelspec": {
   "display_name": "Python 3",
   "language": "python",
   "name": "python3"
  },
  "language_info": {
   "codemirror_mode": {
    "name": "ipython",
    "version": 3
   },
   "file_extension": ".py",
   "mimetype": "text/x-python",
   "name": "python",
   "nbconvert_exporter": "python",
   "pygments_lexer": "ipython3",
   "version": "3.7.3"
  }
 },
 "nbformat": 4,
 "nbformat_minor": 2
}
