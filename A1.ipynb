{
 "cells": [
  {
   "cell_type": "markdown",
   "metadata": {},
   "source": [
    "# Questões A1"
   ]
  },
  {
   "cell_type": "markdown",
   "metadata": {},
   "source": [
    "1. **Binômio de Newton**"
   ]
  },
  {
   "cell_type": "code",
   "execution_count": 10,
   "metadata": {},
   "outputs": [],
   "source": [
    "from math import *"
   ]
  },
  {
   "cell_type": "code",
   "execution_count": 14,
   "metadata": {},
   "outputs": [],
   "source": [
    "def sbin():\n",
    "    n=int(input('n = '))\n",
    "    k=0\n",
    "    soma=0\n",
    "    while k<=n:\n",
    "        c=(factorial(n))/((factorial(k))*(factorial(n-k)))\n",
    "        s=(k**2)*c\n",
    "        soma=soma+s\n",
    "        k=k+1\n",
    "    return soma    "
   ]
  },
  {
   "cell_type": "code",
   "execution_count": 15,
   "metadata": {},
   "outputs": [
    {
     "name": "stdout",
     "output_type": "stream",
     "text": [
      "n = 5\n"
     ]
    },
    {
     "data": {
      "text/plain": [
       "240.0"
      ]
     },
     "execution_count": 15,
     "metadata": {},
     "output_type": "execute_result"
    }
   ],
   "source": [
    "sbin()"
   ]
  },
  {
   "cell_type": "markdown",
   "metadata": {},
   "source": [
    "2. **Gulamatu**"
   ]
  },
  {
   "cell_type": "markdown",
   "metadata": {},
   "source": [
    "* Ano bissexto = divisível por 4 e não é divisível por 100\n",
    "* Ano bissexto = divisível por 400 tbm vale\n",
    "* Festival Huluculu = divisível por 15\n",
    "* Festival Bulukulu = ano bissexto divisível por 55\n",
    "\n",
    "**Escore:**\n",
    "    - Ano bissexto = Soma-se 1\n",
    "    - Festival Huluculu = Soma-se 10\n",
    "    - Festival Bulukulu = Soma-se 100"
   ]
  },
  {
   "cell_type": "code",
   "execution_count": 46,
   "metadata": {},
   "outputs": [],
   "source": [
    "def EscoreGulumatu(a):\n",
    "    # a = número de 4 dígitos\n",
    "    if a<10000 and ((a%4==0 and a%100!=0) or a%400==0):\n",
    "        print (a,'é um ano bissexto')\n",
    "        escore=1\n",
    "        if a%55==0:\n",
    "            print(a,'é um ano do Festival Bulukulu e é bissexto')\n",
    "            escore = 101\n",
    "            if a%15==0:\n",
    "                print(a,'é um ano do Festival Hulukulu, Bulukulu e é bissexto')\n",
    "                escore = 111\n",
    "        if a%15==0 and a%55!=0:\n",
    "            print(a,'é um ano do Festival Hulukulu e é bissexto')\n",
    "            escore = 11\n",
    "    elif a<10000 and a%15==0:\n",
    "        print (a,\"é um ano do Festival Hulukulu, mas não é bissexto \")\n",
    "        escore = 10\n",
    "    else:\n",
    "        escore = 0\n",
    "        print(a,\"Forget\")\n",
    "    return escore"
   ]
  },
  {
   "cell_type": "code",
   "execution_count": 47,
   "metadata": {},
   "outputs": [
    {
     "name": "stdout",
     "output_type": "stream",
     "text": [
      "330000 Forget\n"
     ]
    },
    {
     "data": {
      "text/plain": [
       "0"
      ]
     },
     "execution_count": 47,
     "metadata": {},
     "output_type": "execute_result"
    }
   ],
   "source": [
    "EscoreGulumatu(330000)"
   ]
  },
  {
   "cell_type": "code",
   "execution_count": 3,
   "metadata": {},
   "outputs": [],
   "source": [
    "def ContaGulumatu(a,b):\n",
    "    # a e b são intervalos de anos\n",
    "    cont=a\n",
    "    bis=0\n",
    "    bulu=0\n",
    "    hulubulu=0\n",
    "    hulu=0\n",
    "    while cont<=b and (a<10000 and b<10000):\n",
    "        if cont<10000 and ((cont%4==0 and cont%100!=0) or cont%400==0):\n",
    "            bis=bis+1\n",
    "            if cont%55==0:\n",
    "                bulu=bulu+1\n",
    "                if cont%15==0:\n",
    "                    hulubulu=hulubulu+1\n",
    "        elif cont%15==0:\n",
    "            hulu=hulu+1\n",
    "        cont=cont+1\n",
    "    return (bis,hulu,bulu,hulubulu)   "
   ]
  },
  {
   "cell_type": "code",
   "execution_count": 5,
   "metadata": {},
   "outputs": [
    {
     "data": {
      "text/plain": [
       "(243, 52, 4, 2)"
      ]
     },
     "execution_count": 5,
     "metadata": {},
     "output_type": "execute_result"
    }
   ],
   "source": [
    "ContaGulumatu(1000,2000)"
   ]
  },
  {
   "cell_type": "code",
   "execution_count": 48,
   "metadata": {},
   "outputs": [],
   "source": [
    "def serie(k,valor):\n",
    "    n=1\n",
    "    soma=0\n",
    "    d=False\n",
    "    if k<=1:\n",
    "        while n<=10:\n",
    "            c=(k**n)*factorial(n)/(n**n)\n",
    "            soma=soma+c\n",
    "            n=n+1\n",
    "            if c<=valor:\n",
    "                d=True\n",
    "                break\n",
    "    else:\n",
    "        print ('A série diverge e a soma é:',inf)\n",
    "    return d,soma"
   ]
  },
  {
   "cell_type": "code",
   "execution_count": 52,
   "metadata": {},
   "outputs": [
    {
     "data": {
      "text/plain": [
       "(True, 1.8755873348842356)"
      ]
     },
     "execution_count": 52,
     "metadata": {},
     "output_type": "execute_result"
    }
   ],
   "source": [
    "serie(0.9999,0.01)"
   ]
  },
  {
   "cell_type": "code",
   "execution_count": 54,
   "metadata": {},
   "outputs": [],
   "source": [
    "def serie2(k,valor):\n",
    "    n=1\n",
    "    soma=0\n",
    "    c=((k**n)*(factorial(n)))/(n**n)\n",
    "    while c>valor and n<99:\n",
    "        soma=soma+c\n",
    "        print(n,soma)\n",
    "        n=n+1\n",
    "        c=((k**n)*(factorial(n)))/(n**n)\n",
    "    if c<=valor:\n",
    "        print ('A série converge para: ',soma)\n",
    "    else:\n",
    "        print ('A série diverge para: ',inf)"
   ]
  },
  {
   "cell_type": "code",
   "execution_count": 57,
   "metadata": {},
   "outputs": [
    {
     "name": "stdout",
     "output_type": "stream",
     "text": [
      "1 2.0\n",
      "2 4.0\n",
      "3 5.777777777777778\n",
      "4 7.277777777777778\n",
      "5 8.506577777777778\n",
      "6 9.494232098765433\n",
      "7 10.2775791735387\n",
      "8 10.8928135485387\n",
      "9 11.372381783248144\n",
      "10 11.743970903248144\n",
      "11 12.030498286530193\n",
      "12 12.250548583740985\n",
      "13 12.418973631832754\n",
      "14 12.547512890802214\n",
      "15 12.645367358818095\n",
      "16 12.719700040651862\n",
      "17 12.77605689938247\n",
      "18 12.818712479264184\n",
      "19 12.850948848439286\n",
      "20 12.875277868521053\n",
      "21 12.893616572115901\n",
      "22 12.907424468486036\n",
      "23 12.917810367615957\n",
      "24 12.925615059544755\n",
      "25 12.931475029018145\n",
      "26 12.935871375038474\n",
      "27 12.93916725238652\n",
      "28 12.941636449856576\n",
      "29 12.943485151193935\n",
      "30 12.944868470070364\n",
      "31 12.94590299062858\n",
      "32 12.946676262659437\n",
      "33 12.947253980165655\n",
      "34 12.947685401161669\n",
      "35 12.948007434581715\n",
      "36 12.94824771864389\n",
      "37 12.948426937178624\n",
      "38 12.94856056092186\n",
      "A série converge para:  12.94856056092186\n"
     ]
    }
   ],
   "source": [
    "serie2(2,0.0001)"
   ]
  },
  {
   "cell_type": "code",
   "execution_count": 61,
   "metadata": {},
   "outputs": [],
   "source": [
    "def somadivisores(n):\n",
    "    soma=0\n",
    "    i=1\n",
    "    while i<=n:\n",
    "        if n%i==0:\n",
    "            soma=soma+i\n",
    "            print (i,n/i)\n",
    "        i=i+1\n",
    "    return soma"
   ]
  },
  {
   "cell_type": "code",
   "execution_count": 64,
   "metadata": {},
   "outputs": [
    {
     "name": "stdout",
     "output_type": "stream",
     "text": [
      "1 20.0\n",
      "2 10.0\n",
      "4 5.0\n",
      "5 4.0\n",
      "10 2.0\n",
      "20 1.0\n"
     ]
    },
    {
     "data": {
      "text/plain": [
       "42"
      ]
     },
     "execution_count": 64,
     "metadata": {},
     "output_type": "execute_result"
    }
   ],
   "source": [
    "somadivisores(20)"
   ]
  },
  {
   "cell_type": "code",
   "execution_count": 65,
   "metadata": {},
   "outputs": [],
   "source": [
    "def equivalentes(a,b):\n",
    "    x=somadivisores(a)\n",
    "    y=somadivisores(b)\n",
    "    if x==y:\n",
    "        print (1)\n",
    "    else:\n",
    "        print (0)"
   ]
  },
  {
   "cell_type": "code",
   "execution_count": 67,
   "metadata": {},
   "outputs": [
    {
     "name": "stdout",
     "output_type": "stream",
     "text": [
      "1 6.0\n",
      "2 3.0\n",
      "3 2.0\n",
      "6 1.0\n",
      "1 11.0\n",
      "11 1.0\n",
      "1\n"
     ]
    }
   ],
   "source": [
    "equivalentes(6,11)"
   ]
  },
  {
   "cell_type": "code",
   "execution_count": 69,
   "metadata": {},
   "outputs": [],
   "source": [
    "def triangulo(a,b,c):\n",
    "    if a<b+c or b<a+c or c<a+b:\n",
    "        if a==b and b==c:\n",
    "            print (1)\n",
    "        elif (a==b and b!=c) or (a==c and c!=b) or (b==c and b!=a):\n",
    "            print (2)\n",
    "        else:\n",
    "            print (3)\n",
    "    else:\n",
    "        print (0)           "
   ]
  },
  {
   "cell_type": "code",
   "execution_count": 71,
   "metadata": {},
   "outputs": [
    {
     "name": "stdout",
     "output_type": "stream",
     "text": [
      "3\n"
     ]
    }
   ],
   "source": [
    "triangulo(3,4,5)"
   ]
  }
 ],
 "metadata": {
  "kernelspec": {
   "display_name": "Python 3",
   "language": "python",
   "name": "python3"
  },
  "language_info": {
   "codemirror_mode": {
    "name": "ipython",
    "version": 3
   },
   "file_extension": ".py",
   "mimetype": "text/x-python",
   "name": "python",
   "nbconvert_exporter": "python",
   "pygments_lexer": "ipython3",
   "version": "3.7.3"
  }
 },
 "nbformat": 4,
 "nbformat_minor": 2
}
