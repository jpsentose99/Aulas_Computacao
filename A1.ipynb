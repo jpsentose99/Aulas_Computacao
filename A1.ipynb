{
 "cells": [
  {
   "cell_type": "markdown",
   "metadata": {},
   "source": [
    "# Questões A1"
   ]
  },
  {
   "cell_type": "markdown",
   "metadata": {},
   "source": [
    "1. **Binômio de Newton**"
   ]
  },
  {
   "cell_type": "code",
   "execution_count": 2,
   "metadata": {},
   "outputs": [],
   "source": [
    "from math import *"
   ]
  },
  {
   "cell_type": "code",
   "execution_count": 14,
   "metadata": {},
   "outputs": [],
   "source": [
    "def sbin():\n",
    "    n=int(input('n = '))\n",
    "    k=0\n",
    "    soma=0\n",
    "    while k<=n:\n",
    "        c=(factorial(n))/((factorial(k))*(factorial(n-k)))\n",
    "        s=(k**2)*c\n",
    "        soma=soma+s\n",
    "        k=k+1\n",
    "    return soma    "
   ]
  },
  {
   "cell_type": "code",
   "execution_count": 15,
   "metadata": {},
   "outputs": [
    {
     "name": "stdout",
     "output_type": "stream",
     "text": [
      "n = 5\n"
     ]
    },
    {
     "data": {
      "text/plain": [
       "240.0"
      ]
     },
     "execution_count": 15,
     "metadata": {},
     "output_type": "execute_result"
    }
   ],
   "source": [
    "sbin()"
   ]
  },
  {
   "cell_type": "markdown",
   "metadata": {},
   "source": [
    "2. **Gulamatu**"
   ]
  },
  {
   "cell_type": "markdown",
   "metadata": {},
   "source": [
    "* Ano bissexto = divisível por 4 e não é divisível por 100\n",
    "* Ano bissexto = divisível por 400 tbm vale\n",
    "* Festival Huluculu = divisível por 15\n",
    "* Festival Bulukulu = ano bissexto divisível por 55\n",
    "\n",
    "**Escore:**\n",
    "    - Ano bissexto = Soma-se 1\n",
    "    - Festival Huluculu = Soma-se 10\n",
    "    - Festival Bulukulu = Soma-se 100"
   ]
  },
  {
   "cell_type": "code",
   "execution_count": 46,
   "metadata": {},
   "outputs": [],
   "source": [
    "def EscoreGulumatu(a):\n",
    "    # a = número de 4 dígitos\n",
    "    if a<10000 and ((a%4==0 and a%100!=0) or a%400==0):\n",
    "        print (a,'é um ano bissexto')\n",
    "        escore=1\n",
    "        if a%55==0:\n",
    "            print(a,'é um ano do Festival Bulukulu e é bissexto')\n",
    "            escore = 101\n",
    "            if a%15==0:\n",
    "                print(a,'é um ano do Festival Hulukulu, Bulukulu e é bissexto')\n",
    "                escore = 111\n",
    "        if a%15==0 and a%55!=0:\n",
    "            print(a,'é um ano do Festival Hulukulu e é bissexto')\n",
    "            escore = 11\n",
    "    elif a<10000 and a%15==0:\n",
    "        print (a,\"é um ano do Festival Hulukulu, mas não é bissexto \")\n",
    "        escore = 10\n",
    "    else:\n",
    "        escore = 0\n",
    "        print(a,\"Forget\")\n",
    "    return escore"
   ]
  },
  {
   "cell_type": "code",
   "execution_count": 47,
   "metadata": {},
   "outputs": [
    {
     "name": "stdout",
     "output_type": "stream",
     "text": [
      "330000 Forget\n"
     ]
    },
    {
     "data": {
      "text/plain": [
       "0"
      ]
     },
     "execution_count": 47,
     "metadata": {},
     "output_type": "execute_result"
    }
   ],
   "source": [
    "EscoreGulumatu(330000)"
   ]
  },
  {
   "cell_type": "code",
   "execution_count": null,
   "metadata": {},
   "outputs": [],
   "source": [
    "def ContaGulumatu(a,b):\n",
    "    # a e b são intervalos de anos\n",
    "    cont=a\n",
    "    bis=0\n",
    "    bulu=0\n",
    "    hulubulu=0\n",
    "    hulu1=0\n",
    "    hulu2=0\n",
    "    while cont<=b and (a<10000 and b<10000):\n",
    "        if ((cont%4==0 and cont%100!=0) or cont%400==0):\n",
    "            bis=bis+1\n",
    "            if cont%55==0:\n",
    "                bulu=bulu+1\n",
    "                if cont%15==0:\n",
    "                    hulubulu=hulubulu+1\n",
    "            if cont%15==0 and cont%55!=0:\n",
    "                hulu1=hulu1+1\n",
    "        elif cont%15==0:\n",
    "            hulu2=hulu2+1\n",
    "        cont=cont+1\n",
    "    hulu=hulu1+hulu2+hulubulu\n",
    "    bulu=bulu+hulubulu\n",
    "    print(bis)\n",
    "    print(hulu)\n",
    "    print(bulu)\n",
    "    print(hulubulu)"
   ]
  },
  {
   "cell_type": "code",
   "execution_count": null,
   "metadata": {},
   "outputs": [],
   "source": [
    "ContaGulumatu(1000,2000)"
   ]
  }
 ],
 "metadata": {
  "kernelspec": {
   "display_name": "Python 3",
   "language": "python",
   "name": "python3"
  },
  "language_info": {
   "codemirror_mode": {
    "name": "ipython",
    "version": 3
   },
   "file_extension": ".py",
   "mimetype": "text/x-python",
   "name": "python",
   "nbconvert_exporter": "python",
   "pygments_lexer": "ipython3",
   "version": "3.7.3"
  }
 },
 "nbformat": 4,
 "nbformat_minor": 2
}
