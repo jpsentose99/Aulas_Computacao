{
 "cells": [
  {
   "cell_type": "code",
   "execution_count": 42,
   "metadata": {},
   "outputs": [],
   "source": [
    "from math import *\n",
    "import numpy as np"
   ]
  },
  {
   "cell_type": "markdown",
   "metadata": {},
   "source": [
    "# Questão 1\n",
    "Implementar a ordenação de arrays pelo método do [Bubble Sort](https://pt.wikipedia.org/wiki/Bubble_sort)."
   ]
  },
  {
   "cell_type": "code",
   "execution_count": 39,
   "metadata": {},
   "outputs": [],
   "source": [
    "def BubbleSort(lista):\n",
    "    i=0\n",
    "    while i<=len(lista)-2: #usamos len(lista)-2, para ele não comparar o elemento n com o n+1(que não existe)\n",
    "        if lista[i]>lista[i+1]: #se fizermos len(lista)-1, quando chegar em i=len(lista)-1, ele irá comparar com o elemento na posição i=len(lista), que não existe\n",
    "            x=lista[i]\n",
    "            lista[i]=lista[i+1]\n",
    "            lista[i+1]=x\n",
    "        i=i+1\n",
    "    i=0 #volta para a posição 0  \n",
    "    while i<=len(lista)-2:\n",
    "        if lista[i]>lista[i+1]:\n",
    "            BubbleSort(lista) #recursão, pois no primeiro while só percorremos a lista uma única vez\n",
    "        i=i+1\n",
    "    return lista"
   ]
  },
  {
   "cell_type": "code",
   "execution_count": 40,
   "metadata": {},
   "outputs": [
    {
     "data": {
      "text/plain": [
       "[0, 1, 3, 4, 4, 5, 7, 7]"
      ]
     },
     "execution_count": 40,
     "metadata": {},
     "output_type": "execute_result"
    }
   ],
   "source": [
    "BubbleSort([1,0,7,3,4,5,4,7])"
   ]
  },
  {
   "cell_type": "markdown",
   "metadata": {},
   "source": [
    "# Questão 2\n",
    "Somar duas matrizes, por meio de uma soma dos elementos correspondentes (soma elemento a elemento). Ou seja, sejam $A$ e $B$ as matrizes que serão somadas, cada elemento da matriz resultante $C$ será dado por:\n",
    "\n",
    "$$c_{ij}= a_{ij} + b_{ij}$$"
   ]
  },
  {
   "cell_type": "code",
   "execution_count": 111,
   "metadata": {},
   "outputs": [],
   "source": [
    "def somamat(x,y):\n",
    "    if x.shape!=y.shape:\n",
    "        print('Coloque matrizes com dimensões iguais')    \n",
    "    else:\n",
    "        i=0\n",
    "        j=0\n",
    "        c=np.matrix(np.zeros(x.shape))\n",
    "        while i<x.shape[0]: #x.shape[0] me devolve a quantidade de linhas da matriz\n",
    "            j=0 #precisamos voltar para a coluna 0 para fazermos a soma dos elementos das linhas i>1\n",
    "            while j<x.shape[1]: #x.shape[1] me devolve a quantidade de colunas da matriz\n",
    "                c[i,j]=x[i,j]+y[i,j]\n",
    "                j=j+1\n",
    "            i=i+1\n",
    "    return c"
   ]
  },
  {
   "cell_type": "code",
   "execution_count": 112,
   "metadata": {},
   "outputs": [
    {
     "data": {
      "text/plain": [
       "(3, 3)"
      ]
     },
     "execution_count": 112,
     "metadata": {},
     "output_type": "execute_result"
    }
   ],
   "source": [
    "x=np.matrix([[1,2,3],[4,5,6],[7,8,9]])\n",
    "y=x*2\n",
    "x.shape"
   ]
  },
  {
   "cell_type": "code",
   "execution_count": 115,
   "metadata": {},
   "outputs": [
    {
     "data": {
      "text/plain": [
       "matrix([[ 3.,  6.,  9.],\n",
       "        [12., 15., 18.],\n",
       "        [21., 24., 27.]])"
      ]
     },
     "execution_count": 115,
     "metadata": {},
     "output_type": "execute_result"
    }
   ],
   "source": [
    "somamat(x,y)"
   ]
  },
  {
   "cell_type": "markdown",
   "metadata": {},
   "source": [
    "# Questão 3\n",
    "Criar uma função que recebe uma matriz como parâmetro de entrada e troca 2 linhas escolhidas (parâmetros de entrada) de posição. "
   ]
  },
  {
   "cell_type": "code",
   "execution_count": 123,
   "metadata": {},
   "outputs": [],
   "source": [
    "def trocalinhas(matriz,l1,l2):\n",
    "    j=0\n",
    "    while j<matriz.shape[1]:\n",
    "        x=matriz[l1,j]\n",
    "        matriz[l1,j]=matriz[l2,j]\n",
    "        matriz[l2,j]=x\n",
    "        j=j+1\n",
    "    return matriz"
   ]
  },
  {
   "cell_type": "code",
   "execution_count": 124,
   "metadata": {},
   "outputs": [
    {
     "data": {
      "text/plain": [
       "matrix([[1, 2, 3],\n",
       "        [4, 5, 6],\n",
       "        [7, 8, 9]])"
      ]
     },
     "execution_count": 124,
     "metadata": {},
     "output_type": "execute_result"
    }
   ],
   "source": [
    "x=np.matrix([[1,2,3],[4,5,6],[7,8,9]])\n",
    "x"
   ]
  },
  {
   "cell_type": "code",
   "execution_count": 125,
   "metadata": {},
   "outputs": [
    {
     "data": {
      "text/plain": [
       "matrix([[4, 5, 6],\n",
       "        [1, 2, 3],\n",
       "        [7, 8, 9]])"
      ]
     },
     "execution_count": 125,
     "metadata": {},
     "output_type": "execute_result"
    }
   ],
   "source": [
    "trocalinhas(x,0,1)"
   ]
  },
  {
   "cell_type": "code",
   "execution_count": 126,
   "metadata": {},
   "outputs": [
    {
     "data": {
      "text/plain": [
       "matrix([[ 1,  2,  3,  4],\n",
       "        [ 5,  6,  7,  8],\n",
       "        [ 9, 10, 11, 12],\n",
       "        [13, 14, 15, 16],\n",
       "        [17, 18, 19, 20]])"
      ]
     },
     "execution_count": 126,
     "metadata": {},
     "output_type": "execute_result"
    }
   ],
   "source": [
    "tr=np.matrix([[1,2,3,4],[5,6,7,8],[9,10,11,12],[13,14,15,16],[17,18,19,20]])\n",
    "tr"
   ]
  },
  {
   "cell_type": "code",
   "execution_count": 128,
   "metadata": {},
   "outputs": [
    {
     "data": {
      "text/plain": [
       "matrix([[ 1,  2,  3,  4],\n",
       "        [ 5,  6,  7,  8],\n",
       "        [ 9, 10, 11, 12],\n",
       "        [13, 14, 15, 16],\n",
       "        [17, 18, 19, 20]])"
      ]
     },
     "execution_count": 128,
     "metadata": {},
     "output_type": "execute_result"
    }
   ],
   "source": [
    "trocalinhas(tr,3,4)"
   ]
  },
  {
   "cell_type": "markdown",
   "metadata": {},
   "source": [
    "# Questão 4\n",
    "Criar uma função que recebe uma matriz como parâmetro de entrada e inverte a ordem das linhas dessa matriz. "
   ]
  },
  {
   "cell_type": "code",
   "execution_count": 131,
   "metadata": {},
   "outputs": [],
   "source": [
    "def invertelinhas(matriz):\n",
    "    nlin=matriz.shape[0]\n",
    "    ncol=matriz.shape[1]\n",
    "    i=0\n",
    "    j=0\n",
    "    while i<nlin//2:\n",
    "        j=0\n",
    "        while j<ncol:\n",
    "            x=matriz[i,j]\n",
    "            matriz[i,j]=matriz[nlin-1-i,j]\n",
    "            matriz[nlin-1-i,j]=x\n",
    "            j=j+1\n",
    "        i=i+1\n",
    "    return matriz"
   ]
  },
  {
   "cell_type": "code",
   "execution_count": 132,
   "metadata": {},
   "outputs": [
    {
     "data": {
      "text/plain": [
       "matrix([[ 1,  2,  3,  4],\n",
       "        [13, 14, 15, 16],\n",
       "        [ 9, 10, 11, 12],\n",
       "        [ 5,  6,  7,  8],\n",
       "        [17, 18, 19, 20]])"
      ]
     },
     "execution_count": 132,
     "metadata": {},
     "output_type": "execute_result"
    }
   ],
   "source": [
    "invertelinhas(tr)"
   ]
  }
 ],
 "metadata": {
  "kernelspec": {
   "display_name": "Python 3",
   "language": "python",
   "name": "python3"
  },
  "language_info": {
   "codemirror_mode": {
    "name": "ipython",
    "version": 3
   },
   "file_extension": ".py",
   "mimetype": "text/x-python",
   "name": "python",
   "nbconvert_exporter": "python",
   "pygments_lexer": "ipython3",
   "version": "3.7.3"
  }
 },
 "nbformat": 4,
 "nbformat_minor": 2
}
