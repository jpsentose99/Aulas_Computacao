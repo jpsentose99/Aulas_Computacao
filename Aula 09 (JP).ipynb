{
 "cells": [
  {
   "cell_type": "markdown",
   "metadata": {},
   "source": [
    "# Tarefa:\n",
    "* Quantos números naturais consecutivos precisam ser somados para que a soma ultrapasse um valor limite informado"
   ]
  },
  {
   "cell_type": "code",
   "execution_count": 1,
   "metadata": {},
   "outputs": [],
   "source": [
    "def quantostermos(teto):\n",
    "    #conta quantos números devem ser somados para que a soma deles ultrapasse o valor informado\n",
    "    soma=0\n",
    "    cont=0\n",
    "    while soma<teto:\n",
    "        #não contamos o 0 como soma\n",
    "        cont=cont+1\n",
    "        soma=soma+cont\n",
    "    return cont,soma"
   ]
  },
  {
   "cell_type": "code",
   "execution_count": 2,
   "metadata": {},
   "outputs": [
    {
     "data": {
      "text/plain": [
       "(5, 15)"
      ]
     },
     "execution_count": 2,
     "metadata": {},
     "output_type": "execute_result"
    }
   ],
   "source": [
    "quantostermos(11)"
   ]
  },
  {
   "cell_type": "markdown",
   "metadata": {},
   "source": [
    "# Tarefa:\n",
    "* Calcular o saldo numa poupança em que há:\n",
    "    * Depósito inicial $d_i$\n",
    "    * Depósitos mensais $d_m$\n",
    "    * taxa de juros mensais $tx$\n",
    "    * tempo de poupança $t$ meses"
   ]
  },
  {
   "cell_type": "code",
   "execution_count": 3,
   "metadata": {},
   "outputs": [],
   "source": [
    "def saldo(di,dm,tx,t):\n",
    "    saldo = di\n",
    "    mes=0\n",
    "    while mes<t:\n",
    "        mes=mes+1\n",
    "        saldo=dm+saldo*(1+tx/100)\n",
    "    return saldo"
   ]
  },
  {
   "cell_type": "code",
   "execution_count": 4,
   "metadata": {},
   "outputs": [
    {
     "data": {
      "text/plain": [
       "1333.311"
      ]
     },
     "execution_count": 4,
     "metadata": {},
     "output_type": "execute_result"
    }
   ],
   "source": [
    "saldo(1000,100,1,3)"
   ]
  },
  {
   "cell_type": "code",
   "execution_count": 5,
   "metadata": {},
   "outputs": [],
   "source": [
    "def quantopoupar(di,dm,tx,sf):\n",
    "    # retorna quantos meses preciso manter meu capital investido para atingir o saldo final desejável\n",
    "    saldo=di\n",
    "    mes=0\n",
    "    while saldo<sf:\n",
    "        mes=mes+1\n",
    "        saldo=dm+saldo*(1+tx/100)\n",
    "    return mes"
   ]
  },
  {
   "cell_type": "code",
   "execution_count": 6,
   "metadata": {},
   "outputs": [
    {
     "data": {
      "text/plain": [
       "26"
      ]
     },
     "execution_count": 6,
     "metadata": {},
     "output_type": "execute_result"
    }
   ],
   "source": [
    "quantopoupar(0,70,1,2000)"
   ]
  },
  {
   "cell_type": "code",
   "execution_count": 7,
   "metadata": {},
   "outputs": [],
   "source": [
    "#def depositomensal(di,tx,t,sf):\n",
    "    #saldo = di\n",
    "    #mes = 0\n",
    "    #while mes<t:\n",
    "        #di = di*(1+tx/100)\n",
    "    #return (sf-di)/t"
   ]
  },
  {
   "cell_type": "markdown",
   "metadata": {},
   "source": [
    "# Uso do FOR com RANGE"
   ]
  },
  {
   "cell_type": "code",
   "execution_count": 8,
   "metadata": {},
   "outputs": [
    {
     "name": "stdout",
     "output_type": "stream",
     "text": [
      "0\n",
      "1\n",
      "2\n",
      "3\n",
      "4\n"
     ]
    }
   ],
   "source": [
    "for cont in range(5):\n",
    "    print(cont)"
   ]
  },
  {
   "cell_type": "code",
   "execution_count": 9,
   "metadata": {},
   "outputs": [
    {
     "name": "stdout",
     "output_type": "stream",
     "text": [
      "0\n",
      "1\n",
      "2\n",
      "3\n",
      "4\n"
     ]
    }
   ],
   "source": [
    "cont=0\n",
    "while cont<5:\n",
    "    print (cont)\n",
    "    cont=cont+1"
   ]
  },
  {
   "cell_type": "code",
   "execution_count": 30,
   "metadata": {},
   "outputs": [],
   "source": [
    "def divisores(n):\n",
    "    a=0\n",
    "    cont=0\n",
    "    while a<n:\n",
    "        a=a+1\n",
    "        if n%a==0:\n",
    "            print(a) \n",
    "            cont=cont+1\n",
    "    return cont"
   ]
  },
  {
   "cell_type": "code",
   "execution_count": 31,
   "metadata": {},
   "outputs": [
    {
     "name": "stdout",
     "output_type": "stream",
     "text": [
      "1\n",
      "2\n",
      "4\n",
      "5\n",
      "10\n",
      "20\n"
     ]
    },
    {
     "data": {
      "text/plain": [
       "6"
      ]
     },
     "execution_count": 31,
     "metadata": {},
     "output_type": "execute_result"
    }
   ],
   "source": [
    "divisores(20)"
   ]
  },
  {
   "cell_type": "code",
   "execution_count": 28,
   "metadata": {},
   "outputs": [],
   "source": [
    "def somadivisores(n):\n",
    "    a=0\n",
    "    cont=0\n",
    "    soma=0\n",
    "    while a<n:\n",
    "        a=a+1\n",
    "        if n%a==0:\n",
    "            print(a) \n",
    "            cont=cont+1\n",
    "            soma=soma+a\n",
    "    return cont,soma"
   ]
  },
  {
   "cell_type": "code",
   "execution_count": 29,
   "metadata": {},
   "outputs": [
    {
     "name": "stdout",
     "output_type": "stream",
     "text": [
      "1\n",
      "2\n",
      "4\n",
      "5\n",
      "10\n",
      "20\n"
     ]
    },
    {
     "data": {
      "text/plain": [
       "(6, 42)"
      ]
     },
     "execution_count": 29,
     "metadata": {},
     "output_type": "execute_result"
    }
   ],
   "source": [
    "somadivisores(20)"
   ]
  }
 ],
 "metadata": {
  "kernelspec": {
   "display_name": "Python 3",
   "language": "python",
   "name": "python3"
  },
  "language_info": {
   "codemirror_mode": {
    "name": "ipython",
    "version": 3
   },
   "file_extension": ".py",
   "mimetype": "text/x-python",
   "name": "python",
   "nbconvert_exporter": "python",
   "pygments_lexer": "ipython3",
   "version": "3.7.3"
  }
 },
 "nbformat": 4,
 "nbformat_minor": 2
}
