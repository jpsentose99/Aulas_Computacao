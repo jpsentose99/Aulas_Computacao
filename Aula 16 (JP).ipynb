{
 "cells": [
  {
   "cell_type": "markdown",
   "metadata": {},
   "source": [
    "# Aula 16"
   ]
  },
  {
   "cell_type": "code",
   "execution_count": 1,
   "metadata": {},
   "outputs": [],
   "source": [
    "from math import *\n",
    "from random import *"
   ]
  },
  {
   "cell_type": "code",
   "execution_count": 7,
   "metadata": {},
   "outputs": [],
   "source": [
    "def baralho(n):\n",
    "    #sorteia n cartas, podendo haver repetição\n",
    "    lista=[]\n",
    "    for i in range(n):\n",
    "        carta=randint(1,13)\n",
    "        naipe=choice(['copas','ouros','paus','espadas'])\n",
    "        lista.append([carta,naipe])\n",
    "    return lista"
   ]
  },
  {
   "cell_type": "code",
   "execution_count": 8,
   "metadata": {},
   "outputs": [
    {
     "data": {
      "text/plain": [
       "[[11, 'espadas'], [7, 'espadas']]"
      ]
     },
     "execution_count": 8,
     "metadata": {},
     "output_type": "execute_result"
    }
   ],
   "source": [
    "baralho(2)"
   ]
  },
  {
   "cell_type": "code",
   "execution_count": 9,
   "metadata": {},
   "outputs": [
    {
     "data": {
      "text/plain": [
       "[[2, 'copas'], [8, 'espadas'], [7, 'paus']]"
      ]
     },
     "execution_count": 9,
     "metadata": {},
     "output_type": "execute_result"
    }
   ],
   "source": [
    "baralho(3)"
   ]
  },
  {
   "cell_type": "code",
   "execution_count": 13,
   "metadata": {},
   "outputs": [],
   "source": [
    "def baralho2(n):\n",
    "    #sorteia n cartas, sem repetição\n",
    "    if n>52:\n",
    "        print('Não dá pra sortear mais cartas do que existem seu BURRO')\n",
    "        return []\n",
    "    naipes=['copas','ouros','paus','espadas']\n",
    "    baralho=[]\n",
    "    lista=[]\n",
    "    for carta in range(1,14):\n",
    "        for naipe in range(4):\n",
    "            x=[carta,naipes[naipe]]\n",
    "            baralho.append(x)\n",
    "    #começa o sorteio das n cartas\n",
    "    for i in range(n):\n",
    "        #índice da lista começa em 0, logo usaremos len(baralho)-1\n",
    "        cartasorteada=baralho.pop(randint(0,len(baralho)-1)) #sorteia o índice da lista e faz o pop\n",
    "        lista.append(cartasorteada) \n",
    "    return lista"
   ]
  },
  {
   "cell_type": "code",
   "execution_count": 16,
   "metadata": {},
   "outputs": [
    {
     "data": {
      "text/plain": [
       "[[9, 'paus'], [6, 'ouros'], [9, 'copas'], [11, 'copas'], [7, 'espadas']]"
      ]
     },
     "execution_count": 16,
     "metadata": {},
     "output_type": "execute_result"
    }
   ],
   "source": [
    "baralho2(5)"
   ]
  }
 ],
 "metadata": {
  "kernelspec": {
   "display_name": "Python 3",
   "language": "python",
   "name": "python3"
  },
  "language_info": {
   "codemirror_mode": {
    "name": "ipython",
    "version": 3
   },
   "file_extension": ".py",
   "mimetype": "text/x-python",
   "name": "python",
   "nbconvert_exporter": "python",
   "pygments_lexer": "ipython3",
   "version": "3.7.3"
  }
 },
 "nbformat": 4,
 "nbformat_minor": 2
}
