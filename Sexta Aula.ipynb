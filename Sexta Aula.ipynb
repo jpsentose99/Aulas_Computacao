{
 "cells": [
  {
   "cell_type": "markdown",
   "metadata": {},
   "source": [
    "# Aula 6"
   ]
  },
  {
   "cell_type": "code",
   "execution_count": 1,
   "metadata": {},
   "outputs": [],
   "source": [
    "from math import *"
   ]
  },
  {
   "cell_type": "code",
   "execution_count": 2,
   "metadata": {},
   "outputs": [
    {
     "data": {
      "text/plain": [
       "4.0"
      ]
     },
     "execution_count": 2,
     "metadata": {},
     "output_type": "execute_result"
    }
   ],
   "source": [
    "(sqrt(8*10+1)-1)/2"
   ]
  },
  {
   "cell_type": "markdown",
   "metadata": {},
   "source": [
    "Função para verificar se um número é triangular ou não\n",
    "Um número \"x\" é triangular se o resultado da expressão:\n",
    "\n",
    "$$\\frac{\\sqrt{8x+1}-1}{2}$$\n",
    "é um número inteiro"
   ]
  },
  {
   "cell_type": "code",
   "execution_count": 3,
   "metadata": {},
   "outputs": [],
   "source": [
    "def tri(x):\n",
    "    n=(sqrt(8*x+1)-1)/2\n",
    "    if n-int(n)==0:\n",
    "        saída=True #é um número triangular\n",
    "    else:\n",
    "        saída=False\n",
    "    return saída"
   ]
  },
  {
   "cell_type": "code",
   "execution_count": 4,
   "metadata": {},
   "outputs": [
    {
     "data": {
      "text/plain": [
       "False"
      ]
     },
     "execution_count": 4,
     "metadata": {},
     "output_type": "execute_result"
    }
   ],
   "source": [
    "tri(4)"
   ]
  },
  {
   "cell_type": "code",
   "execution_count": 5,
   "metadata": {},
   "outputs": [],
   "source": [
    "def diadasemana(d,m,a):\n",
    "    # d = dia\n",
    "    # m = mês\n",
    "    # a = ano\n",
    "    # DS = dia da semana\n",
    "    y = a-(14-m)//12\n",
    "    x = y+y//4-y//100+y//400\n",
    "    k = m+12*((14-m)//12)-2\n",
    "    N = d+x+(31*k)//12\n",
    "    DS = N%7\n",
    "    if DS==0:\n",
    "        dia='Domingo'\n",
    "    elif DS==1:\n",
    "        dia='Segunda'\n",
    "    elif DS==2:\n",
    "        dia='Terça'\n",
    "    elif DS==3:\n",
    "        dia='Quarta'\n",
    "    elif DS==4:\n",
    "        dia='Quinta'\n",
    "    elif DS==5:\n",
    "        dia='Sexta'\n",
    "    else:\n",
    "        dia='Sábado'\n",
    "    return dia"
   ]
  },
  {
   "cell_type": "code",
   "execution_count": 6,
   "metadata": {},
   "outputs": [
    {
     "data": {
      "text/plain": [
       "'Sexta'"
      ]
     },
     "execution_count": 6,
     "metadata": {},
     "output_type": "execute_result"
    }
   ],
   "source": [
    "diadasemana(10,12,1999)"
   ]
  },
  {
   "cell_type": "code",
   "execution_count": 7,
   "metadata": {},
   "outputs": [
    {
     "name": "stdout",
     "output_type": "stream",
     "text": [
      "Digite um número: 3\n",
      "3.0\n"
     ]
    }
   ],
   "source": [
    "x=float(input('Digite um número: '))\n",
    "print(x)"
   ]
  },
  {
   "cell_type": "code",
   "execution_count": 12,
   "metadata": {},
   "outputs": [],
   "source": [
    "def repeticao():\n",
    "    x='inicio'\n",
    "    while x!='':\n",
    "        x=input('Digite um número: ')\n",
    "    print(x)"
   ]
  },
  {
   "cell_type": "code",
   "execution_count": 16,
   "metadata": {},
   "outputs": [],
   "source": [
    "def repeticao2():\n",
    "    x=0\n",
    "    digitou='sim'\n",
    "    while digitou=='sim':\n",
    "        n=input('Digite um número: ')\n",
    "        if n!='':\n",
    "            x=float(n)\n",
    "            print (x)\n",
    "        else:\n",
    "            digitou='não'"
   ]
  },
  {
   "cell_type": "code",
   "execution_count": 18,
   "metadata": {},
   "outputs": [
    {
     "name": "stdout",
     "output_type": "stream",
     "text": [
      "Digite um número: 4\n",
      "4.0\n",
      "Digite um número: \n"
     ]
    }
   ],
   "source": [
    "repeticao2()"
   ]
  },
  {
   "cell_type": "code",
   "execution_count": 4,
   "metadata": {},
   "outputs": [],
   "source": [
    "def somainfinita():\n",
    "    x=0\n",
    "    #x=soma\n",
    "    digitou='sim'\n",
    "    while digitou =='sim':\n",
    "        n=input('Digite um número: ')\n",
    "        if n!='':\n",
    "            a=float(n)\n",
    "            x=x+a\n",
    "            #x=soma anterior + número inputado\n",
    "            print(x)\n",
    "        else:\n",
    "            digitou='não'"
   ]
  },
  {
   "cell_type": "code",
   "execution_count": null,
   "metadata": {},
   "outputs": [
    {
     "name": "stdout",
     "output_type": "stream",
     "text": [
      "Digite um número: 1\n",
      "1.0\n",
      "Digite um número: 2\n",
      "3.0\n",
      "Digite um número: 3\n",
      "6.0\n",
      "Digite um número: 4\n",
      "10.0\n",
      "Digite um número: 5\n",
      "15.0\n",
      "Digite um número: 6\n",
      "21.0\n",
      "Digite um número: 7\n",
      "28.0\n",
      "Digite um número: 8\n",
      "36.0\n",
      "Digite um número: 9\n",
      "45.0\n",
      "Digite um número: 10\n",
      "55.0\n"
     ]
    }
   ],
   "source": [
    "somainfinita()"
   ]
  }
 ],
 "metadata": {
  "kernelspec": {
   "display_name": "Python 3",
   "language": "python",
   "name": "python3"
  },
  "language_info": {
   "codemirror_mode": {
    "name": "ipython",
    "version": 3
   },
   "file_extension": ".py",
   "mimetype": "text/x-python",
   "name": "python",
   "nbconvert_exporter": "python",
   "pygments_lexer": "ipython3",
   "version": "3.7.3"
  }
 },
 "nbformat": 4,
 "nbformat_minor": 2
}
