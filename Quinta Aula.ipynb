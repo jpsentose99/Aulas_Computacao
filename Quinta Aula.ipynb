{
 "cells": [
  {
   "cell_type": "markdown",
   "metadata": {},
   "source": [
    "# Aula 5"
   ]
  },
  {
   "cell_type": "code",
   "execution_count": 1,
   "metadata": {},
   "outputs": [],
   "source": [
    "from random import *\n",
    "from math import *"
   ]
  },
  {
   "cell_type": "code",
   "execution_count": 2,
   "metadata": {},
   "outputs": [
    {
     "name": "stdout",
     "output_type": "stream",
     "text": [
      "[1, 2, 3, 4, 5, 6, 7, 8, 9, 10, 11, 12, 13, 14, 15, 16, 17, 18, 19, 20, 21, 22, 23, 24, 25, 26, 27, 28, 29, 30, 31, 32, 33, 34, 35, 36, 37, 38, 39, 40, 41, 42, 43, 44, 45, 46, 47, 48, 49, 50, 51, 52, 53, 54, 55, 56, 57, 58, 59, 60]\n",
      "8\n"
     ]
    }
   ],
   "source": [
    "grilo=list(range(1,61))\n",
    "print(grilo)\n",
    "grilin=randrange(0,11,2)\n",
    "print(grilin)"
   ]
  },
  {
   "cell_type": "code",
   "execution_count": 3,
   "metadata": {},
   "outputs": [],
   "source": [
    "def ordem(n1,n2,n3):\n",
    "    if n1>n2:\n",
    "        if n1>n3:\n",
    "            terceiro=n1\n",
    "            if n2>n3:\n",
    "                segundo=n2\n",
    "                primeiro=n3\n",
    "            else:\n",
    "                segundo=n3\n",
    "                primeiro=n2\n",
    "        else:\n",
    "            terceiro=n3\n",
    "            segundo=n1\n",
    "            primeiro=n2\n",
    "    else:\n",
    "        if n2>n3:\n",
    "            terceiro=n2\n",
    "            if n1>n3:\n",
    "                segundo=n1\n",
    "                primeiro=n3\n",
    "            else:\n",
    "                segundo=n3\n",
    "                primeiro=n1\n",
    "        else:\n",
    "            terceiro=n3\n",
    "            segundo=n2\n",
    "            primeiro=n1\n",
    "    return(primeiro,segundo,terceiro)\n",
    "                "
   ]
  },
  {
   "cell_type": "code",
   "execution_count": 4,
   "metadata": {},
   "outputs": [
    {
     "data": {
      "text/plain": [
       "(3, 28, 30)"
      ]
     },
     "execution_count": 4,
     "metadata": {},
     "output_type": "execute_result"
    }
   ],
   "source": [
    "ordem(30,28,3)"
   ]
  },
  {
   "cell_type": "code",
   "execution_count": 5,
   "metadata": {},
   "outputs": [],
   "source": [
    "def triangulo(a,b,c):\n",
    "    if a<b+c and c<a+b and c<a+b:\n",
    "        tri=True\n",
    "    else:\n",
    "        tri=False\n",
    "    return tri"
   ]
  },
  {
   "cell_type": "code",
   "execution_count": 6,
   "metadata": {},
   "outputs": [
    {
     "data": {
      "text/plain": [
       "True"
      ]
     },
     "execution_count": 6,
     "metadata": {},
     "output_type": "execute_result"
    }
   ],
   "source": [
    "triangulo(3,4,5)"
   ]
  },
  {
   "cell_type": "code",
   "execution_count": 7,
   "metadata": {},
   "outputs": [
    {
     "ename": "SyntaxError",
     "evalue": "invalid syntax (<ipython-input-7-4c4445582678>, line 1)",
     "output_type": "error",
     "traceback": [
      "\u001b[1;36m  File \u001b[1;32m\"<ipython-input-7-4c4445582678>\"\u001b[1;36m, line \u001b[1;32m1\u001b[0m\n\u001b[1;33m    def pit(a.b,c):\u001b[0m\n\u001b[1;37m             ^\u001b[0m\n\u001b[1;31mSyntaxError\u001b[0m\u001b[1;31m:\u001b[0m invalid syntax\n"
     ]
    }
   ],
   "source": [
    "def pit(a.b,c):\n",
    "    if triangulo(a,b,c)==False:\n",
    "        return\n",
    "    if a**2=b**2+c**2 or b**2==c**2+a**2 or c**2==a**2+b**2:\n",
    "        "
   ]
  }
 ],
 "metadata": {
  "kernelspec": {
   "display_name": "Python 3",
   "language": "python",
   "name": "python3"
  },
  "language_info": {
   "codemirror_mode": {
    "name": "ipython",
    "version": 3
   },
   "file_extension": ".py",
   "mimetype": "text/x-python",
   "name": "python",
   "nbconvert_exporter": "python",
   "pygments_lexer": "ipython3",
   "version": "3.7.3"
  }
 },
 "nbformat": 4,
 "nbformat_minor": 2
}
