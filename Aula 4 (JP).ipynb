{
 "cells": [
  {
   "cell_type": "markdown",
   "metadata": {},
   "source": [
    "# Aula 4"
   ]
  },
  {
   "cell_type": "code",
   "execution_count": 1,
   "metadata": {},
   "outputs": [],
   "source": [
    "def cf(tempc):\n",
    "    tempf=9*tempc/5+32\n",
    "    return tempf\n",
    "def fc(tempf):\n",
    "    tempc=5*(tempf-32)/9\n",
    "    return tempc"
   ]
  },
  {
   "cell_type": "code",
   "execution_count": 2,
   "metadata": {},
   "outputs": [
    {
     "name": "stdout",
     "output_type": "stream",
     "text": [
      "ABcd\n",
      "ABCD\n",
      "abCD\n",
      "abcd\n"
     ]
    }
   ],
   "source": [
    "texto='ABcd'\n",
    "textoup=texto.upper()\n",
    "textosw=texto.swapcase()\n",
    "textolo=texto.lower()\n",
    "print(texto)\n",
    "print(textoup)\n",
    "print(textosw)\n",
    "print(textolo)"
   ]
  },
  {
   "cell_type": "markdown",
   "metadata": {},
   "source": [
    "* .upper = Método para transformar tudo em letra maiúscula\n",
    "* .swapcase = o que é minúsculo vira maiúsculo e assim por diante\n",
    "* .lower = contrário do upper"
   ]
  },
  {
   "cell_type": "code",
   "execution_count": 3,
   "metadata": {},
   "outputs": [],
   "source": [
    "def converte(temp,unidade):\n",
    "    unidade=unidade.upper()\n",
    "    if unidade=='C':\n",
    "        tconv=cf(temp)\n",
    "        uconv='F'\n",
    "    else:\n",
    "        if unidade=='F':\n",
    "            tconv=fc(temp)\n",
    "            uconv='C'\n",
    "        else:\n",
    "            tconv = 'A unidade deve ser C ou F'\n",
    "    return tconv,uconv\n",
    "        "
   ]
  },
  {
   "cell_type": "code",
   "execution_count": 5,
   "metadata": {},
   "outputs": [
    {
     "data": {
      "text/plain": [
       "(95.0, 'F')"
      ]
     },
     "execution_count": 5,
     "metadata": {},
     "output_type": "execute_result"
    }
   ],
   "source": [
    "converte(35,'c')"
   ]
  },
  {
   "cell_type": "code",
   "execution_count": 18,
   "metadata": {},
   "outputs": [],
   "source": [
    "from math import *"
   ]
  },
  {
   "cell_type": "code",
   "execution_count": 28,
   "metadata": {},
   "outputs": [],
   "source": [
    "def bhaskara():\n",
    "    a=int(input('Digite o a do polinômio: '))\n",
    "    b=int(input('Digite o b do polinômio: '))\n",
    "    c=int(input('Digite o c do polinômio: '))\n",
    "    delta=b**2-4*a*c\n",
    "    if delta > 0:\n",
    "        x=(-b+sqrt(delta))/2*a\n",
    "        y=(-b-sqrt(delta))/2*a\n",
    "    else:\n",
    "        if delta == 0:\n",
    "            x=-b/2*a\n",
    "        else:\n",
    "            print('Não temos raízes reais.')\n",
    "            x='ERRO'\n",
    "            y='ERRO'\n",
    "    return x,y"
   ]
  },
  {
   "cell_type": "code",
   "execution_count": 26,
   "metadata": {},
   "outputs": [
    {
     "name": "stdout",
     "output_type": "stream",
     "text": [
      "Digite o a do polinômio: 4\n",
      "Digite o b do polinômio: 3\n",
      "Digite o c do polinômio: 5\n",
      "Não temos raízes reais.\n"
     ]
    },
    {
     "data": {
      "text/plain": [
       "('ERRO', 'ERRO')"
      ]
     },
     "execution_count": 26,
     "metadata": {},
     "output_type": "execute_result"
    }
   ],
   "source": [
    "bhaskara()"
   ]
  },
  {
   "cell_type": "code",
   "execution_count": 32,
   "metadata": {},
   "outputs": [],
   "source": [
    "def RafaelExcel(n):\n",
    "    if n>5:\n",
    "        print('Maior que cinco, otário')\n",
    "    elif n>4:\n",
    "        print('É cinco')\n",
    "    elif n>3:\n",
    "        print('É quatro')\n",
    "    elif n>2:\n",
    "        print('É três')\n",
    "    else:\n",
    "        print('É dois, um ou zero')\n",
    "    \n",
    "\n"
   ]
  },
  {
   "cell_type": "code",
   "execution_count": 34,
   "metadata": {},
   "outputs": [
    {
     "name": "stdout",
     "output_type": "stream",
     "text": [
      "É quatro\n"
     ]
    }
   ],
   "source": [
    "RafaelExcel(4)"
   ]
  },
  {
   "cell_type": "code",
   "execution_count": 35,
   "metadata": {},
   "outputs": [],
   "source": [
    "from random import *"
   ]
  },
  {
   "cell_type": "code",
   "execution_count": 38,
   "metadata": {},
   "outputs": [
    {
     "data": {
      "text/plain": [
       "0.48582335077189465"
      ]
     },
     "execution_count": 38,
     "metadata": {},
     "output_type": "execute_result"
    }
   ],
   "source": [
    "random()"
   ]
  },
  {
   "cell_type": "code",
   "execution_count": 40,
   "metadata": {},
   "outputs": [],
   "source": [
    "seed()"
   ]
  },
  {
   "cell_type": "code",
   "execution_count": 41,
   "metadata": {},
   "outputs": [
    {
     "data": {
      "text/plain": [
       "0.7667204094369097"
      ]
     },
     "execution_count": 41,
     "metadata": {},
     "output_type": "execute_result"
    }
   ],
   "source": [
    "random()"
   ]
  },
  {
   "cell_type": "code",
   "execution_count": 42,
   "metadata": {},
   "outputs": [
    {
     "data": {
      "text/plain": [
       "0.9909283266771625"
      ]
     },
     "execution_count": 42,
     "metadata": {},
     "output_type": "execute_result"
    }
   ],
   "source": [
    "random()"
   ]
  },
  {
   "cell_type": "code",
   "execution_count": 45,
   "metadata": {},
   "outputs": [
    {
     "data": {
      "text/plain": [
       "7"
      ]
     },
     "execution_count": 45,
     "metadata": {},
     "output_type": "execute_result"
    }
   ],
   "source": [
    "randint(0,10)"
   ]
  },
  {
   "cell_type": "code",
   "execution_count": 47,
   "metadata": {},
   "outputs": [
    {
     "data": {
      "text/plain": [
       "17.454015264504875"
      ]
     },
     "execution_count": 47,
     "metadata": {},
     "output_type": "execute_result"
    }
   ],
   "source": [
    "uniform(10,20)"
   ]
  },
  {
   "cell_type": "code",
   "execution_count": 58,
   "metadata": {},
   "outputs": [],
   "source": [
    "def parouimpar():\n",
    "    x=input('Par ou Ímpar? ')\n",
    "    y=int(input('Digite aqui seu número: '))\n",
    "    c=randint(0,10)\n",
    "    z=y+c\n",
    "    if z%2==0:\n",
    "        print()\n",
    "    return c,z"
   ]
  },
  {
   "cell_type": "code",
   "execution_count": 60,
   "metadata": {},
   "outputs": [
    {
     "name": "stdout",
     "output_type": "stream",
     "text": [
      "Par ou Ímpar? Par\n",
      "Digite aqui seu número: 2\n"
     ]
    },
    {
     "data": {
      "text/plain": [
       "(0, 2)"
      ]
     },
     "execution_count": 60,
     "metadata": {},
     "output_type": "execute_result"
    }
   ],
   "source": [
    "parouimpar()"
   ]
  }
 ],
 "metadata": {
  "kernelspec": {
   "display_name": "Python 3",
   "language": "python",
   "name": "python3"
  },
  "language_info": {
   "codemirror_mode": {
    "name": "ipython",
    "version": 3
   },
   "file_extension": ".py",
   "mimetype": "text/x-python",
   "name": "python",
   "nbconvert_exporter": "python",
   "pygments_lexer": "ipython3",
   "version": "3.7.3"
  }
 },
 "nbformat": 4,
 "nbformat_minor": 2
}
