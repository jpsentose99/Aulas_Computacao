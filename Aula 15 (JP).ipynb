{
 "cells": [
  {
   "cell_type": "markdown",
   "metadata": {},
   "source": [
    "# Aula 15"
   ]
  },
  {
   "cell_type": "code",
   "execution_count": 1,
   "metadata": {},
   "outputs": [],
   "source": [
    "from math import *"
   ]
  },
  {
   "cell_type": "code",
   "execution_count": 2,
   "metadata": {},
   "outputs": [],
   "source": [
    "def raiziterativa(n,casadec):\n",
    "    z=n/2 #chute inicial\n",
    "    cont=0\n",
    "    while abs(n-z**2)>10**(-casadec):\n",
    "        z=(z+n/z)/2\n",
    "        cont=cont+1\n",
    "    return z,cont"
   ]
  },
  {
   "cell_type": "code",
   "execution_count": 3,
   "metadata": {},
   "outputs": [
    {
     "data": {
      "text/plain": [
       "(3.1622776604441363, 4)"
      ]
     },
     "execution_count": 3,
     "metadata": {},
     "output_type": "execute_result"
    }
   ],
   "source": [
    "raiziterativa(10,5)"
   ]
  },
  {
   "cell_type": "code",
   "execution_count": 4,
   "metadata": {},
   "outputs": [],
   "source": [
    "def fibo(n):\n",
    "    #Gera a sequência de Fibonacci, sem usar recursividade\n",
    "    #Retorna lista com os elementos da sequência\n",
    "    elementos=[]\n",
    "    if n==0:\n",
    "        return elementos\n",
    "    elif n==1:\n",
    "        elementos.append(1)\n",
    "        return elementos\n",
    "    else:\n",
    "        elementos.append(0)\n",
    "        elementos.append(1)\n",
    "        cont=1\n",
    "        while cont<n:\n",
    "            cont=cont+1\n",
    "            elementos.append(elementos[cont-1]+elementos[cont-2])\n",
    "        return elementos"
   ]
  },
  {
   "cell_type": "code",
   "execution_count": 5,
   "metadata": {},
   "outputs": [
    {
     "data": {
      "text/plain": [
       "[0, 1, 1, 2, 3, 5, 8]"
      ]
     },
     "execution_count": 5,
     "metadata": {},
     "output_type": "execute_result"
    }
   ],
   "source": [
    "fibo(6)"
   ]
  },
  {
   "cell_type": "code",
   "execution_count": 6,
   "metadata": {},
   "outputs": [],
   "source": [
    "def fibosemlista(n):\n",
    "    if n==1 or n==0:\n",
    "        return n\n",
    "    else:\n",
    "        a=0\n",
    "        b=1\n",
    "        cont=1\n",
    "        while cont<n:\n",
    "            cont=cont+1\n",
    "            c=a+b\n",
    "            a=b\n",
    "            b=c\n",
    "        return b"
   ]
  },
  {
   "cell_type": "code",
   "execution_count": 7,
   "metadata": {},
   "outputs": [
    {
     "data": {
      "text/plain": [
       "8"
      ]
     },
     "execution_count": 7,
     "metadata": {},
     "output_type": "execute_result"
    }
   ],
   "source": [
    "fibosemlista(6)"
   ]
  },
  {
   "cell_type": "code",
   "execution_count": 8,
   "metadata": {},
   "outputs": [],
   "source": [
    "def listadivisores(n):\n",
    "    divisores=[]\n",
    "    cont=1\n",
    "    while cont<=n:\n",
    "        if n%cont==0:\n",
    "            divisores.append(cont)\n",
    "        cont=cont+1\n",
    "    return divisores"
   ]
  },
  {
   "cell_type": "code",
   "execution_count": 9,
   "metadata": {},
   "outputs": [
    {
     "data": {
      "text/plain": [
       "[1, 2, 4, 5, 10, 20]"
      ]
     },
     "execution_count": 9,
     "metadata": {},
     "output_type": "execute_result"
    }
   ],
   "source": [
    "listadivisores(20)"
   ]
  },
  {
   "cell_type": "code",
   "execution_count": 10,
   "metadata": {},
   "outputs": [],
   "source": [
    "def contdiv(n):\n",
    "    cont=0\n",
    "    i=1\n",
    "    while i<=n:\n",
    "        if n%i==0:\n",
    "            #print(i)\n",
    "            cont=cont+1\n",
    "        i=i+1\n",
    "    return cont"
   ]
  },
  {
   "cell_type": "code",
   "execution_count": 11,
   "metadata": {},
   "outputs": [],
   "source": [
    "def listaprimos(n):\n",
    "    #Lista os primos inferiores a n\n",
    "    primos=[]\n",
    "    cont=1\n",
    "    while cont<=n:\n",
    "        if contdiv(cont)==2:\n",
    "            primos.append(cont)\n",
    "        cont=cont+1\n",
    "    return primos"
   ]
  },
  {
   "cell_type": "code",
   "execution_count": 16,
   "metadata": {},
   "outputs": [
    {
     "data": {
      "text/plain": [
       "[2, 3, 5, 7, 11, 13, 17, 19, 23, 29, 31, 37, 41, 43, 47]"
      ]
     },
     "execution_count": 16,
     "metadata": {},
     "output_type": "execute_result"
    }
   ],
   "source": [
    "listaprimos(50)"
   ]
  },
  {
   "cell_type": "code",
   "execution_count": 14,
   "metadata": {},
   "outputs": [],
   "source": [
    "def listaprimos2(n):\n",
    "    primos=[]\n",
    "    for numero in range (1,n+1):\n",
    "        if len(listadivisores(numero))==2:\n",
    "            primos.append(numero)\n",
    "    return primos"
   ]
  },
  {
   "cell_type": "code",
   "execution_count": 17,
   "metadata": {},
   "outputs": [
    {
     "data": {
      "text/plain": [
       "[2, 3, 5, 7, 11, 13, 17, 19, 23, 29, 31, 37, 41, 43, 47]"
      ]
     },
     "execution_count": 17,
     "metadata": {},
     "output_type": "execute_result"
    }
   ],
   "source": [
    "listaprimos2(50)"
   ]
  },
  {
   "cell_type": "code",
   "execution_count": 21,
   "metadata": {},
   "outputs": [],
   "source": [
    "def listanumeros(n):\n",
    "    abund=[]\n",
    "    perf=[]\n",
    "    defic=[]\n",
    "    for numero in range (1,n+1):\n",
    "        somadiv=sum(listadivisores(numero))\n",
    "        if numero==somadiv-numero:\n",
    "            perf.append(numero)\n",
    "        elif numero<somadiv-numero:\n",
    "            abund.append(numero)\n",
    "        else:\n",
    "            defic.append(numero)\n",
    "    return abund, defic, perf"
   ]
  },
  {
   "cell_type": "code",
   "execution_count": 23,
   "metadata": {},
   "outputs": [
    {
     "name": "stdout",
     "output_type": "stream",
     "text": [
      "abundantes: []\n",
      "perfeitos: [6]\n",
      "deficientes: [1, 2, 3, 4, 5, 7, 8, 9, 10]\n"
     ]
    }
   ],
   "source": [
    "a, d, p=listanumeros(10)\n",
    "print('abundantes:',a)\n",
    "print('perfeitos:',p)\n",
    "print('deficientes:',d)"
   ]
  }
 ],
 "metadata": {
  "kernelspec": {
   "display_name": "Python 3",
   "language": "python",
   "name": "python3"
  },
  "language_info": {
   "codemirror_mode": {
    "name": "ipython",
    "version": 3
   },
   "file_extension": ".py",
   "mimetype": "text/x-python",
   "name": "python",
   "nbconvert_exporter": "python",
   "pygments_lexer": "ipython3",
   "version": "3.7.3"
  }
 },
 "nbformat": 4,
 "nbformat_minor": 2
}
