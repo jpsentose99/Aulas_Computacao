{
 "cells": [
  {
   "cell_type": "markdown",
   "metadata": {},
   "source": [
    "# Aula8"
   ]
  },
  {
   "cell_type": "code",
   "execution_count": 55,
   "metadata": {},
   "outputs": [],
   "source": [
    "from math import *"
   ]
  },
  {
   "cell_type": "code",
   "execution_count": 56,
   "metadata": {},
   "outputs": [],
   "source": [
    "def somaquadrados(n):\n",
    "    soma=0\n",
    "    cont=0\n",
    "    while cont<n:\n",
    "        cont=cont+1\n",
    "        soma=soma+cont**2\n",
    "    return soma"
   ]
  },
  {
   "cell_type": "code",
   "execution_count": 58,
   "metadata": {},
   "outputs": [
    {
     "data": {
      "text/plain": [
       "14"
      ]
     },
     "execution_count": 58,
     "metadata": {},
     "output_type": "execute_result"
    }
   ],
   "source": [
    "somaquadrados(3)"
   ]
  },
  {
   "cell_type": "code",
   "execution_count": 32,
   "metadata": {},
   "outputs": [],
   "source": [
    "def somapar(n):\n",
    "    #função para somar os n primeiros pares\n",
    "    soma=0\n",
    "    cont=0\n",
    "    # numero=0\n",
    "    # while cont<n:\n",
    "    # cont = cont + 1 #incrementa a contagem\n",
    "    # numero = numero + 2 #incrementa os números que estão sendo somados\n",
    "    # soma = soma + numero #incrementa a soma com o numero\n",
    "    while cont<n:\n",
    "        cont=cont+1\n",
    "        #numero=numero+2\n",
    "        #soma=soma+numero\n",
    "        soma=soma+cont*2\n",
    "    return soma"
   ]
  },
  {
   "cell_type": "code",
   "execution_count": 17,
   "metadata": {},
   "outputs": [
    {
     "data": {
      "text/plain": [
       "30"
      ]
     },
     "execution_count": 17,
     "metadata": {},
     "output_type": "execute_result"
    }
   ],
   "source": [
    "somapar(5)"
   ]
  },
  {
   "cell_type": "code",
   "execution_count": 33,
   "metadata": {},
   "outputs": [],
   "source": [
    "def somaimpar(n):\n",
    "    #função para somar os n primeiros impares\n",
    "    soma=0\n",
    "    cont=0\n",
    "    # numero=-1\n",
    "    # while cont<n:\n",
    "    # cont = cont + 1 #incrementa a contagem\n",
    "    # numero = numero + 2 #incrementa os números que estão sendo somados\n",
    "    # soma = soma + numero #incrementa a soma com o numero\n",
    "    while cont<n:\n",
    "        #numero=numero+2\n",
    "        #soma=soma+numero\n",
    "        soma=soma+cont*2+1\n",
    "        cont=cont+1\n",
    "    return soma"
   ]
  },
  {
   "cell_type": "code",
   "execution_count": 29,
   "metadata": {},
   "outputs": [
    {
     "data": {
      "text/plain": [
       "9"
      ]
     },
     "execution_count": 29,
     "metadata": {},
     "output_type": "execute_result"
    }
   ],
   "source": [
    "somaimpar(3)"
   ]
  },
  {
   "cell_type": "code",
   "execution_count": 50,
   "metadata": {},
   "outputs": [],
   "source": [
    "def somatermo(x,k):\n",
    "    #cos de um número\n",
    "    soma=0\n",
    "    n=0\n",
    "    while n<=k:\n",
    "        termo=(((-1)**n)/(factorial(2*n)))*(x**(2*n))\n",
    "        print('n =',n,';','termo=',termo)\n",
    "        soma=soma+termo\n",
    "        n=n+1\n",
    "    return soma  "
   ]
  },
  {
   "cell_type": "code",
   "execution_count": 51,
   "metadata": {},
   "outputs": [
    {
     "name": "stdout",
     "output_type": "stream",
     "text": [
      "n = 0 ; termo= 1.0\n",
      "n = 1 ; termo= -4.934802200544679\n",
      "n = 2 ; termo= 4.058712126416767\n",
      "n = 3 ; termo= -1.3352627688545893\n",
      "n = 4 ; termo= 0.23533063035889312\n",
      "n = 5 ; termo= -0.025806891390014047\n",
      "n = 6 ; termo= 0.001929574309403922\n",
      "n = 7 ; termo= -0.00010463810492484565\n",
      "n = 8 ; termo= 4.303069587032944e-06\n",
      "n = 9 ; termo= -1.387895246221376e-07\n",
      "n = 10 ; termo= 3.6047307974624982e-09\n"
     ]
    },
    {
     "data": {
      "text/plain": [
       "-0.9999999999243502"
      ]
     },
     "execution_count": 51,
     "metadata": {},
     "output_type": "execute_result"
    }
   ],
   "source": [
    "somatermo(pi,10)"
   ]
  },
  {
   "cell_type": "code",
   "execution_count": 53,
   "metadata": {},
   "outputs": [
    {
     "name": "stdout",
     "output_type": "stream",
     "text": [
      "n = 0 ; termo= 1.0\n",
      "n = 1 ; termo= -4.934802200544679\n",
      "n = 2 ; termo= 4.058712126416767\n",
      "n = 3 ; termo= -1.3352627688545893\n",
      "n = 4 ; termo= 0.23533063035889312\n",
      "n = 5 ; termo= -0.025806891390014047\n",
      "n = 6 ; termo= 0.001929574309403922\n",
      "n = 7 ; termo= -0.00010463810492484565\n",
      "n = 8 ; termo= 4.303069587032944e-06\n",
      "n = 9 ; termo= -1.387895246221376e-07\n",
      "n = 10 ; termo= 3.6047307974624982e-09\n"
     ]
    },
    {
     "data": {
      "text/plain": [
       "0.9999999999243502"
      ]
     },
     "execution_count": 53,
     "metadata": {},
     "output_type": "execute_result"
    }
   ],
   "source": [
    "abs(somatermo(pi,10))"
   ]
  },
  {
   "cell_type": "markdown",
   "metadata": {},
   "source": [
    "abs = valor absoluto"
   ]
  },
  {
   "cell_type": "markdown",
   "metadata": {},
   "source": [
    "# Para Casa\n",
    "Alterar a função para fazer o seguinte:\n",
    "* Sabendo que a série é convergente, somar os termos somente até que a soma chegue perto do valor limite"
   ]
  },
  {
   "cell_type": "markdown",
   "metadata": {},
   "source": [
    "Sequência de tarefas:\n",
    "* Encontrar o enésimo número triangular\n",
    "* Número triangular é o resultado da soma de uma PA de n termos, razão 1 e $a_0=1$\n",
    "* Ou seja, é a soma dos n primeiros números naturais, que já fizemos antes\n",
    "* Calcular a soma dos k primeiros números triangulares"
   ]
  },
  {
   "cell_type": "code",
   "execution_count": 74,
   "metadata": {},
   "outputs": [],
   "source": [
    "def somatriangular(n):\n",
    "    soma=0\n",
    "    #soma = número triangular\n",
    "    somat=0\n",
    "    #somat = soma dos números triangulares\n",
    "    cont=0\n",
    "    while cont<n:\n",
    "        cont=cont+1\n",
    "        soma=soma+cont\n",
    "        print('Número triangular=',soma)\n",
    "        somat=somat+soma\n",
    "        print('Soma dos números triangulares informados=',somat)\n",
    "    return somat"
   ]
  },
  {
   "cell_type": "code",
   "execution_count": 76,
   "metadata": {},
   "outputs": [
    {
     "name": "stdout",
     "output_type": "stream",
     "text": [
      "Número triangular= 1\n",
      "Soma dos números triangulares informados= 1\n",
      "Número triangular= 3\n",
      "Soma dos números triangulares informados= 4\n",
      "Número triangular= 6\n",
      "Soma dos números triangulares informados= 10\n",
      "Número triangular= 10\n",
      "Soma dos números triangulares informados= 20\n",
      "Número triangular= 15\n",
      "Soma dos números triangulares informados= 35\n"
     ]
    },
    {
     "data": {
      "text/plain": [
       "35"
      ]
     },
     "execution_count": 76,
     "metadata": {},
     "output_type": "execute_result"
    }
   ],
   "source": [
    "somatriangular(5)"
   ]
  },
  {
   "cell_type": "code",
   "execution_count": 89,
   "metadata": {},
   "outputs": [],
   "source": [
    "def somaalg(n):\n",
    "    d=0\n",
    "    e=0\n",
    "    while n%10>=1:\n",
    "        d=n%10\n",
    "        n=(n-d)/10\n",
    "        e=e+d\n",
    "    return e"
   ]
  },
  {
   "cell_type": "code",
   "execution_count": 90,
   "metadata": {},
   "outputs": [
    {
     "data": {
      "text/plain": [
       "13.0"
      ]
     },
     "execution_count": 90,
     "metadata": {},
     "output_type": "execute_result"
    }
   ],
   "source": [
    "somaalg(1237)"
   ]
  }
 ],
 "metadata": {
  "kernelspec": {
   "display_name": "Python 3",
   "language": "python",
   "name": "python3"
  },
  "language_info": {
   "codemirror_mode": {
    "name": "ipython",
    "version": 3
   },
   "file_extension": ".py",
   "mimetype": "text/x-python",
   "name": "python",
   "nbconvert_exporter": "python",
   "pygments_lexer": "ipython3",
   "version": "3.7.3"
  }
 },
 "nbformat": 4,
 "nbformat_minor": 2
}
