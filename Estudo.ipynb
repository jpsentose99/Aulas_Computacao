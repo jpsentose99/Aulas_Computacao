{
 "cells": [
  {
   "cell_type": "markdown",
   "metadata": {},
   "source": [
    "# Estudo Aula 2 e Aula 3"
   ]
  },
  {
   "cell_type": "markdown",
   "metadata": {},
   "source": [
    "- Teyla"
   ]
  },
  {
   "cell_type": "markdown",
   "metadata": {},
   "source": [
    "* Teyla"
   ]
  },
  {
   "cell_type": "markdown",
   "metadata": {},
   "source": [
    "1. Teyla\n",
    "    1. Teylinha\n",
    "    1. Teylinha2\n",
    "1. Teylinha neles"
   ]
  },
  {
   "cell_type": "markdown",
   "metadata": {},
   "source": [
    "***"
   ]
  },
  {
   "cell_type": "code",
   "execution_count": 108,
   "metadata": {},
   "outputs": [],
   "source": [
    "def teyla(nome):\n",
    "    print('Olá,',nome+'!')"
   ]
  },
  {
   "cell_type": "code",
   "execution_count": 109,
   "metadata": {},
   "outputs": [
    {
     "name": "stdout",
     "output_type": "stream",
     "text": [
      "Olá, João!\n"
     ]
    }
   ],
   "source": [
    "teyla('João')"
   ]
  },
  {
   "cell_type": "code",
   "execution_count": 110,
   "metadata": {},
   "outputs": [],
   "source": [
    "def msg(nome1,nome2):\n",
    "    print('Olá,',nome1,'e',nome2+'!')\n"
   ]
  },
  {
   "cell_type": "code",
   "execution_count": 111,
   "metadata": {},
   "outputs": [
    {
     "name": "stdout",
     "output_type": "stream",
     "text": [
      "Olá, João e Maria!\n"
     ]
    }
   ],
   "source": [
    "msg('João','Maria')"
   ]
  },
  {
   "cell_type": "code",
   "execution_count": 112,
   "metadata": {},
   "outputs": [],
   "source": [
    "a=1"
   ]
  },
  {
   "cell_type": "code",
   "execution_count": 122,
   "metadata": {},
   "outputs": [],
   "source": [
    "def teste():\n",
    "    global x,v1,v2\n",
    "    v1=float(input('Diga um número (v1): '))\n",
    "    v2=float(input('Diga outro número (v2): '))\n",
    "    x=v1*v2/a\n",
    "    return x"
   ]
  },
  {
   "cell_type": "code",
   "execution_count": 123,
   "metadata": {},
   "outputs": [
    {
     "name": "stdout",
     "output_type": "stream",
     "text": [
      "Diga um número (v1): 5\n",
      "Diga outro número (v2): 10\n"
     ]
    },
    {
     "data": {
      "text/plain": [
       "50.0"
      ]
     },
     "execution_count": 123,
     "metadata": {},
     "output_type": "execute_result"
    }
   ],
   "source": [
    "teste()"
   ]
  },
  {
   "cell_type": "code",
   "execution_count": 132,
   "metadata": {},
   "outputs": [],
   "source": [
    "def teste2():\n",
    "    global z,j\n",
    "    print('Iremos fazer a seguinte multiplicação: v1*v2*x')\n",
    "    f=v1*v2*x\n",
    "    print('v1*v2*x =',f) \n",
    "    j=v1/v2\n",
    "    z=v2/v1\n",
    "    print('Iremos definir mais duas variáveis: j=v1/v2 e z=v2/v1')\n",
    "    w=f*j/z\n",
    "    print('Definimos agora w=f/j/z')\n",
    "    print('j =',j)\n",
    "    print('z =',z)\n",
    "    return w"
   ]
  },
  {
   "cell_type": "code",
   "execution_count": 133,
   "metadata": {},
   "outputs": [
    {
     "name": "stdout",
     "output_type": "stream",
     "text": [
      "Iremos fazer a seguinte multiplicação: v1*v2*x\n",
      "v1*v2*x = 2500.0\n",
      "Iremos definir mais duas variáveis: j=v1/v2 e z=v2/v1\n",
      "Definimos agora w=f/j/z\n",
      "j = 0.5\n",
      "z = 2.0\n"
     ]
    },
    {
     "data": {
      "text/plain": [
       "625.0"
      ]
     },
     "execution_count": 133,
     "metadata": {},
     "output_type": "execute_result"
    }
   ],
   "source": [
    "teste2()"
   ]
  },
  {
   "cell_type": "code",
   "execution_count": 134,
   "metadata": {},
   "outputs": [
    {
     "data": {
      "text/plain": [
       "2.0"
      ]
     },
     "execution_count": 134,
     "metadata": {},
     "output_type": "execute_result"
    }
   ],
   "source": [
    "z"
   ]
  },
  {
   "cell_type": "code",
   "execution_count": 135,
   "metadata": {},
   "outputs": [
    {
     "data": {
      "text/plain": [
       "0.5"
      ]
     },
     "execution_count": 135,
     "metadata": {},
     "output_type": "execute_result"
    }
   ],
   "source": [
    "j"
   ]
  },
  {
   "cell_type": "code",
   "execution_count": 119,
   "metadata": {},
   "outputs": [],
   "source": [
    "def primeira():\n",
    "    var1 = int(input('Entre o número designado:',))\n",
    "    #print(type(var1))\n",
    "    return var1*2"
   ]
  },
  {
   "cell_type": "code",
   "execution_count": 120,
   "metadata": {},
   "outputs": [
    {
     "name": "stdout",
     "output_type": "stream",
     "text": [
      "Entre o número designado:8\n"
     ]
    },
    {
     "data": {
      "text/plain": [
       "16"
      ]
     },
     "execution_count": 120,
     "metadata": {},
     "output_type": "execute_result"
    }
   ],
   "source": [
    "primeira()"
   ]
  },
  {
   "cell_type": "code",
   "execution_count": 136,
   "metadata": {},
   "outputs": [],
   "source": [
    "def ola():\n",
    "    global teylamec\n",
    "    teylamec = z**j\n",
    "    print('teylamec=j**z')\n",
    "    return round(teylamec,3)"
   ]
  },
  {
   "cell_type": "code",
   "execution_count": 107,
   "metadata": {},
   "outputs": [
    {
     "name": "stdout",
     "output_type": "stream",
     "text": [
      "teylamec=j**z\n"
     ]
    },
    {
     "data": {
      "text/plain": [
       "1.414"
      ]
     },
     "execution_count": 107,
     "metadata": {},
     "output_type": "execute_result"
    }
   ],
   "source": [
    "ola()"
   ]
  },
  {
   "cell_type": "code",
   "execution_count": 137,
   "metadata": {},
   "outputs": [],
   "source": [
    "from math import *"
   ]
  },
  {
   "cell_type": "code",
   "execution_count": 139,
   "metadata": {},
   "outputs": [
    {
     "data": {
      "text/plain": [
       "1.414"
      ]
     },
     "execution_count": 139,
     "metadata": {},
     "output_type": "execute_result"
    }
   ],
   "source": [
    "round(sqrt(2),3)"
   ]
  },
  {
   "cell_type": "code",
   "execution_count": 182,
   "metadata": {},
   "outputs": [],
   "source": [
    "def Caião():\n",
    "    global a,b,c,d\n",
    "    a=float(input('Digite um número, de 1 a 100, que represente o que você achou de Análise: '))\n",
    "    b=float(input('Digite um número, de 1 a 100, que represente o que você está achando do curso de Economia da FGV até agora: '))\n",
    "    c=a/100\n",
    "    d=b/100"
   ]
  },
  {
   "cell_type": "code",
   "execution_count": 183,
   "metadata": {},
   "outputs": [],
   "source": [
    "def CaioMiguez():\n",
    "    if c<0.3 and d<0.3: \n",
    "        print('É Caião, mais uma vez indeciso. Não está na hora de desisitir de economia e procurar outro curso que não possua matemática?')\n",
    "        return c,d\n",
    "    if c>0.7 and d>0.7:\n",
    "        print('Parabéns Caião, primeira vez que você teve certeza na vida!')\n",
    "        return c,d\n",
    "    else: \n",
    "        print('Mais uma vez indeciso. Tu é foda, puta que pariu') \n",
    "        return c,d"
   ]
  },
  {
   "cell_type": "code",
   "execution_count": 184,
   "metadata": {},
   "outputs": [
    {
     "name": "stdout",
     "output_type": "stream",
     "text": [
      "Digite um número, de 1 a 100, que represente o que você achou de Análise: 60\n",
      "Digite um número, de 1 a 100, que represente o que você está achando do curso de Economia da FGV até agora: 50\n"
     ]
    }
   ],
   "source": [
    "Caião()"
   ]
  },
  {
   "cell_type": "code",
   "execution_count": 186,
   "metadata": {},
   "outputs": [
    {
     "name": "stdout",
     "output_type": "stream",
     "text": [
      "Mais uma vez indeciso. Tu é foda, puta que pariu\n"
     ]
    },
    {
     "data": {
      "text/plain": [
       "(0.6, 0.5)"
      ]
     },
     "execution_count": 186,
     "metadata": {},
     "output_type": "execute_result"
    }
   ],
   "source": [
    "CaioMiguez()"
   ]
  },
  {
   "cell_type": "code",
   "execution_count": 198,
   "metadata": {},
   "outputs": [],
   "source": [
    "from math import *"
   ]
  },
  {
   "cell_type": "code",
   "execution_count": 199,
   "metadata": {},
   "outputs": [],
   "source": [
    "def bhaskara():\n",
    "    a=float(input('Digite o a da equação quadrática: '))\n",
    "    b=float(input('Digite o b da equação quadrática: '))\n",
    "    c=float(input('Digite o c da equação quadrática: '))\n",
    "    delta = b**2-4*a*c\n",
    "    if delta>0:\n",
    "        print('Temos como calcular')\n",
    "        x=(-b+sqrt(delta))/2*a\n",
    "        y=(-b-sqrt(delta))/2*a\n",
    "        return round(x,5),round(y,5)\n",
    "    if delta==0:\n",
    "        print('Opa Caião, temos uma parada maneira acontecendo = slow hunch')\n",
    "        g=(-b/2*a)\n",
    "        return round(x,5)\n",
    "    else:\n",
    "        print('Aí é foda, mas vamos tentar')"
   ]
  },
  {
   "cell_type": "code",
   "execution_count": 200,
   "metadata": {},
   "outputs": [
    {
     "name": "stdout",
     "output_type": "stream",
     "text": [
      "Digite o a da equação quadrática: 1\n",
      "Digite o b da equação quadrática: 5\n",
      "Digite o c da equação quadrática: 6\n",
      "Temos como calcular\n"
     ]
    },
    {
     "data": {
      "text/plain": [
       "(-2.0, -3.0)"
      ]
     },
     "execution_count": 200,
     "metadata": {},
     "output_type": "execute_result"
    }
   ],
   "source": [
    "bhaskara()"
   ]
  }
 ],
 "metadata": {
  "kernelspec": {
   "display_name": "Python 3",
   "language": "python",
   "name": "python3"
  },
  "language_info": {
   "codemirror_mode": {
    "name": "ipython",
    "version": 3
   },
   "file_extension": ".py",
   "mimetype": "text/x-python",
   "name": "python",
   "nbconvert_exporter": "python",
   "pygments_lexer": "ipython3",
   "version": "3.7.0"
  }
 },
 "nbformat": 4,
 "nbformat_minor": 2
}
